{
 "cells": [
  {
   "cell_type": "markdown",
   "metadata": {},
   "source": [
    "## Why was the line '''table = soup.find_all(class_='alt')''' written line 81\n",
    "\n",
    "### on the high court website if a valid search is done then the case information is displayed under the class '''alt'''"
   ]
  }
 ],
 "metadata": {
  "language_info": {
   "name": "python"
  },
  "orig_nbformat": 4
 },
 "nbformat": 4,
 "nbformat_minor": 2
}
